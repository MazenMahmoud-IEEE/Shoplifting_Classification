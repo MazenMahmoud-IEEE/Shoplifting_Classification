{
 "cells": [
  {
   "cell_type": "markdown",
   "id": "f3057cfb",
   "metadata": {},
   "source": [
    "# Importing libraries"
   ]
  },
  {
   "cell_type": "code",
   "execution_count": 1,
   "id": "507c8013",
   "metadata": {},
   "outputs": [],
   "source": [
    "import os\n",
    "import cv2\n",
    "import numpy as np\n",
    "from glob import glob\n",
    "from tqdm import tqdm\n",
    "import matplotlib.pyplot as plt\n",
    "import tensorflow as tf\n",
    "from tensorflow.keras.utils import to_categorical"
   ]
  },
  {
   "cell_type": "markdown",
   "id": "e0882e8e",
   "metadata": {},
   "source": [
    "# Importing data"
   ]
  },
  {
   "cell_type": "code",
   "execution_count": 2,
   "id": "53214570",
   "metadata": {},
   "outputs": [
    {
     "name": "stdout",
     "output_type": "stream",
     "text": [
      "Total videos: 855\n",
      "Example: G:\\Projects\\Cellula_Internship\\Shop_Lifting_Classification\\Shop_DataSet\\non shop lifters\\shop_lifter_n_0.mp4 => Label: 0\n"
     ]
    }
   ],
   "source": [
    "def load_video_paths_and_labels(dataset_dir):\n",
    "    video_paths = []\n",
    "    labels = []\n",
    "\n",
    "    class_map = {\n",
    "        'non shop lifters': 0,\n",
    "        'shop lifters': 1\n",
    "    }\n",
    "\n",
    "    for class_name in os.listdir(dataset_dir):\n",
    "        class_dir = os.path.join(dataset_dir, class_name)\n",
    "        if not os.path.isdir(class_dir):\n",
    "            continue\n",
    "        \n",
    "        for file in glob(os.path.join(class_dir, \"*.mp4\")):\n",
    "            video_paths.append(file)\n",
    "            labels.append(class_map[class_name])\n",
    "\n",
    "    return video_paths, labels\n",
    "\n",
    "# Example usage\n",
    "dataset_path = \"G:\\Projects\\Cellula_Internship\\Shop_Lifting_Classification\\Shop_DataSet\"  \n",
    "video_paths, labels = load_video_paths_and_labels(dataset_path)\n",
    "\n",
    "print(f\"Total videos: {len(video_paths)}\")\n",
    "print(f\"Example: {video_paths[0]} => Label: {labels[0]}\")\n"
   ]
  },
  {
   "cell_type": "markdown",
   "id": "5e56b17f",
   "metadata": {},
   "source": [
    "# Visualization"
   ]
  },
  {
   "cell_type": "code",
   "execution_count": 3,
   "id": "e71ef774",
   "metadata": {},
   "outputs": [
    {
     "name": "stderr",
     "output_type": "stream",
     "text": [
      "100%|██████████| 855/855 [00:21<00:00, 40.42it/s]\n"
     ]
    },
    {
     "data": {
      "image/png": "[encoded data removed]",
      "text/plain": [
       "<Figure size 1000x600 with 1 Axes>"
      ]
     },
     "metadata": {},
     "output_type": "display_data"
    },
    {
     "name": "stdout",
     "output_type": "stream",
     "text": [
      "Statistics on video frame counts:\n",
      "Min:    75\n",
      "Max:    1850\n",
      "Mean:   331.42\n",
      "Median: 325.0\n",
      "Std:    119.31\n"
     ]
    }
   ],
   "source": [
    "# Step 1: Count frames per video\n",
    "def count_frames(video_path):\n",
    "    cap = cv2.VideoCapture(video_path)\n",
    "    length = int(cap.get(cv2.CAP_PROP_FRAME_COUNT))\n",
    "    cap.release()\n",
    "    return length\n",
    "\n",
    "frame_counts = [count_frames(video) for video in tqdm(video_paths)]\n",
    "\n",
    "# Step 2: Plot histogram\n",
    "plt.figure(figsize=(10, 6))\n",
    "plt.hist(frame_counts, bins=30, color='skyblue', edgecolor='black')\n",
    "plt.title(\"Frame Count Distribution per Video\")\n",
    "plt.xlabel(\"Number of Frames\")\n",
    "plt.ylabel(\"Number of Videos\")\n",
    "plt.grid(True)\n",
    "plt.show()\n",
    "\n",
    "# Step 3: Print statistics\n",
    "print(\"Statistics on video frame counts:\")\n",
    "print(f\"Min:    {np.min(frame_counts)}\")\n",
    "print(f\"Max:    {np.max(frame_counts)}\")\n",
    "print(f\"Mean:   {np.mean(frame_counts):.2f}\")\n",
    "print(f\"Median: {np.median(frame_counts)}\")\n",
    "print(f\"Std:    {np.std(frame_counts):.2f}\")"
   ]
  },
  {
   "cell_type": "markdown",
   "id": "3f601018",
   "metadata": {},
   "source": [
    "## Note:  Decided to go with 96 frames per video"
   ]
  },
  {
   "cell_type": "markdown",
   "id": "91e9e697",
   "metadata": {},
   "source": [
    "# Pose Detection"
   ]
  },
  {
   "cell_type": "code",
   "execution_count": null,
   "id": "314c3125",
   "metadata": {},
   "outputs": [
    {
     "data": {
      "text/plain": [
       "' import os\\nimport cv2\\nimport numpy as np\\nimport mediapipe as mp\\nfrom tqdm import tqdm\\n\\n# Define paths\\nVIDEO_DIR = \"G:\\\\Projects\\\\Cellula_Internship\\\\Shop_Lifting_Classification\\\\Shop_DataSet\"  # Your actual root folder\\nPOSE_SAVE_DIR = \"pose_arrays\"\\nos.makedirs(POSE_SAVE_DIR, exist_ok=True)\\n\\n# Setup Mediapipe\\nmp_pose = mp.solutions.pose\\npose = mp_pose.Pose(static_image_mode=False, min_detection_confidence=0.5, min_tracking_confidence=0.5)\\n\\n# Collect all videos from subdirectories\\nvideo_paths = []\\nfor root, _, files in os.walk(VIDEO_DIR):\\n    for file in files:\\n        if file.lower().endswith((\\'.mp4\\', \\'.avi\\', \\'.mov\\', \\'.mkv\\', \\'.webm\\')):\\n            video_paths.append(os.path.join(root, file))\\n\\nprint(f\"Found {len(video_paths)} videos.\")\\n\\n# Process each video\\nfor idx, video_path in enumerate(tqdm(video_paths, desc=\"Extracting poses\")):\\n    cap = cv2.VideoCapture(video_path)\\n    video_pose_data = []\\n\\n    while True:\\n        success, frame = cap.read()\\n        if not success:\\n            break\\n\\n        # Resize for speed (optional)\\n        frame = cv2.resize(frame, (256, 256))\\n        frame_rgb = cv2.cvtColor(frame, cv2.COLOR_BGR2RGB)\\n\\n        results = pose.process(frame_rgb)\\n\\n        if results.pose_landmarks:\\n            keypoints = []\\n            for lm in results.pose_landmarks.landmark:\\n                keypoints.append([lm.x, lm.y, lm.z, lm.visibility])\\n            video_pose_data.append(keypoints)\\n        else:\\n            # Append zeros if pose not detected\\n            video_pose_data.append(np.zeros((33, 4)))\\n\\n    cap.release()\\n\\n    video_pose_data = np.array(video_pose_data)\\n    if video_pose_data.shape[0] == 0:\\n        print(f\"[WARNING] No frames in {video_path}, skipping.\")\\n        continue\\n\\n    # Save pose array\\n    video_name = os.path.splitext(os.path.basename(video_path))[0]\\n    save_path = os.path.join(POSE_SAVE_DIR, f\"{video_name}.npy\")\\n    np.save(save_path, video_pose_data)\\n\\nprint(\"✅ Pose extraction completed.\") '"
      ]
     },
     "execution_count": 4,
     "metadata": {},
     "output_type": "execute_result"
    }
   ],
   "source": [
    "import os\n",
    "import cv2\n",
    "import numpy as np\n",
    "import mediapipe as mp\n",
    "from tqdm import tqdm\n",
    "\n",
    "# Define paths\n",
    "VIDEO_DIR = \"G:\\Projects\\Cellula_Internship\\Shop_Lifting_Classification\\Shop_DataSet\"  # Your actual root folder\n",
    "POSE_SAVE_DIR = \"pose_arrays\"\n",
    "os.makedirs(POSE_SAVE_DIR, exist_ok=True)\n",
    "\n",
    "# Setup Mediapipe\n",
    "mp_pose = mp.solutions.pose\n",
    "pose = mp_pose.Pose(static_image_mode=False, min_detection_confidence=0.5, min_tracking_confidence=0.5)\n",
    "\n",
    "# Collect all videos from subdirectories\n",
    "video_paths = []\n",
    "for root, _, files in os.walk(VIDEO_DIR):\n",
    "    for file in files:\n",
    "        if file.lower().endswith(('.mp4', '.avi', '.mov', '.mkv', '.webm')):\n",
    "            video_paths.append(os.path.join(root, file))\n",
    "\n",
    "print(f\"Found {len(video_paths)} videos.\")\n",
    "\n",
    "# Process each video\n",
    "for idx, video_path in enumerate(tqdm(video_paths, desc=\"Extracting poses\")):\n",
    "    cap = cv2.VideoCapture(video_path)\n",
    "    video_pose_data = []\n",
    "\n",
    "    while True:\n",
    "        success, frame = cap.read()\n",
    "        if not success:\n",
    "            break\n",
    "\n",
    "        # Resize for speed (optional)\n",
    "        frame = cv2.resize(frame, (256, 256))\n",
    "        frame_rgb = cv2.cvtColor(frame, cv2.COLOR_BGR2RGB)\n",
    "\n",
    "        results = pose.process(frame_rgb)\n",
    "\n",
    "        if results.pose_landmarks:\n",
    "            keypoints = []\n",
    "            for lm in results.pose_landmarks.landmark:\n",
    "                keypoints.append([lm.x, lm.y, lm.z, lm.visibility])\n",
    "            video_pose_data.append(keypoints)\n",
    "        else:\n",
    "            # Append zeros if pose not detected\n",
    "            video_pose_data.append(np.zeros((33, 4)))\n",
    "\n",
    "    cap.release()\n",
    "\n",
    "    video_pose_data = np.array(video_pose_data)\n",
    "    if video_pose_data.shape[0] == 0:\n",
    "        print(f\"[WARNING] No frames in {video_path}, skipping.\")\n",
    "        continue\n",
    "\n",
    "    # Save pose array\n",
    "    video_name = os.path.splitext(os.path.basename(video_path))[0]\n",
    "    save_path = os.path.join(POSE_SAVE_DIR, f\"{video_name}.npy\")\n",
    "    np.save(save_path, video_pose_data)\n",
    "\n",
    "print(\"✅ Pose extraction completed.\")"
   ]
  },
  {
   "cell_type": "markdown",
   "id": "820b0041",
   "metadata": {},
   "source": [
    "# Pose array Preprocessing"
   ]
  },
  {
   "cell_type": "code",
   "execution_count": 5,
   "id": "0d661b53",
   "metadata": {},
   "outputs": [
    {
     "name": "stderr",
     "output_type": "stream",
     "text": [
      "Processing poses:   1%|▏         | 10/799 [00:00<00:07, 99.82it/s]"
     ]
    },
    {
     "name": "stderr",
     "output_type": "stream",
     "text": [
      "Processing poses: 100%|██████████| 799/799 [00:05<00:00, 137.05it/s]"
     ]
    },
    {
     "name": "stdout",
     "output_type": "stream",
     "text": [
      "✅ Pose post-processing completed.\n",
      "Processed: 0\n",
      "Empty/no-human: 431\n",
      "Skipped (corrupted): 0\n",
      "Saved to: processed_pose_arrays\n",
      "Empty videos saved to: empty_pose_arrays\n"
     ]
    },
    {
     "name": "stderr",
     "output_type": "stream",
     "text": [
      "\n"
     ]
    }
   ],
   "source": [
    "import os\n",
    "import numpy as np\n",
    "from tqdm import tqdm\n",
    "\n",
    "# Directories\n",
    "POSE_ARRAY_DIR = r\"pose_arrays\"   # Folder where you stored the .npy pose arrays\n",
    "SAVE_DIR = r\"processed_pose_arrays\"\n",
    "EMPTY_SAVE_DIR = r\"empty_pose_arrays\"  # To store videos with no humans\n",
    "os.makedirs(SAVE_DIR, exist_ok=True)\n",
    "os.makedirs(EMPTY_SAVE_DIR, exist_ok=True)\n",
    "\n",
    "# Parameters\n",
    "TARGET_FRAMES = 96\n",
    "KEYPOINTS = 33\n",
    "DIMENSIONS = 2  # x, y only\n",
    "\n",
    "# Processing\n",
    "processed_count = 0\n",
    "skipped_count = 0\n",
    "empty_count = 0\n",
    "\n",
    "for file in tqdm(os.listdir(POSE_ARRAY_DIR), desc=\"Processing poses\"):\n",
    "    if not file.endswith(\".npy\"):\n",
    "        continue\n",
    "    \n",
    "    pose_seq = np.load(os.path.join(POSE_ARRAY_DIR, file))\n",
    "\n",
    "    # Shape check\n",
    "    if pose_seq.ndim != 3 or pose_seq.shape[1] != KEYPOINTS:\n",
    "        skipped_count += 1\n",
    "        continue  \n",
    "\n",
    "    # Keep x, y only\n",
    "    if pose_seq.shape[2] > DIMENSIONS:\n",
    "        pose_seq = pose_seq[:, :, :DIMENSIONS]\n",
    "\n",
    "    # If all frames are zeros → no human detected in video\n",
    "    if np.all(pose_seq == 0):\n",
    "        np.save(os.path.join(EMPTY_SAVE_DIR, file), pose_seq)\n",
    "        empty_count += 1\n",
    "        continue\n",
    "\n",
    "print(f\"✅ Pose post-processing completed.\")\n",
    "print(f\"Processed: {processed_count}\")\n",
    "print(f\"Empty/no-human: {empty_count}\")\n",
    "print(f\"Skipped (corrupted): {skipped_count}\")\n",
    "print(f\"Saved to: {SAVE_DIR}\")\n",
    "print(f\"Empty videos saved to: {EMPTY_SAVE_DIR}\")"
   ]
  },
  {
   "cell_type": "code",
   "execution_count": null,
   "id": "12e013eb",
   "metadata": {},
   "outputs": [
    {
     "name": "stderr",
     "output_type": "stream",
     "text": [
      "Processing poses:   0%|          | 0/799 [00:00<?, ?it/s]"
     ]
    },
    {
     "name": "stderr",
     "output_type": "stream",
     "text": [
      "Processing poses:  21%|██        | 168/799 [00:03<00:12, 48.94it/s]"
     ]
    }
   ],
   "source": [
    "import os\n",
    "import numpy as np\n",
    "from tqdm import tqdm\n",
    "\n",
    "# Directories\n",
    "POSE_ARRAY_DIR = r\"pose_arrays\"   # Folder where you stored the .npy pose arrays\n",
    "SAVE_DIR = r\"processed_pose_arrays\"\n",
    "EMPTY_SAVE_DIR = r\"empty_pose_arrays\"  # To store videos with no humans\n",
    "os.makedirs(SAVE_DIR, exist_ok=True)\n",
    "os.makedirs(EMPTY_SAVE_DIR, exist_ok=True)\n",
    "\n",
    "# Parameters\n",
    "TARGET_FRAMES = 96\n",
    "KEYPOINTS = 33\n",
    "DIMENSIONS = 2  # x, y only\n",
    "\n",
    "def normalize_pose(pose):\n",
    "    \"\"\"\n",
    "    Normalize a single frame of pose keypoints:\n",
    "    1. Center at mid-hip\n",
    "    2. Scale coordinates so max(abs(x), abs(y)) = 1\n",
    "    \"\"\"\n",
    "    if np.all(pose == 0):\n",
    "        return pose\n",
    "\n",
    "    # 1. Center at hips\n",
    "    mid_hip_x = (pose[23, 0] + pose[24, 0]) / 2\n",
    "    mid_hip_y = (pose[23, 1] + pose[24, 1]) / 2\n",
    "    pose[:, 0] -= mid_hip_x\n",
    "    pose[:, 1] -= mid_hip_y\n",
    "\n",
    "    # 2. Find global max absolute value (to handle very big/small coordinates)\n",
    "    max_val = np.max(np.abs(pose))\n",
    "    if max_val > 0:\n",
    "        pose /= max_val  # now everything is in [-1, 1]\n",
    "\n",
    "    return pose\n",
    "\n",
    "def fill_missing_frames(seq):\n",
    "    \"\"\"\n",
    "    Replace all-zero frames with the previous valid frame.\n",
    "    \"\"\"\n",
    "    for i in range(len(seq)):\n",
    "        if np.all(seq[i] == 0):\n",
    "            if i > 0:\n",
    "                seq[i] = seq[i-1]\n",
    "            else:\n",
    "                # If first frame is zero, find first non-zero\n",
    "                non_zero_frames = seq[~np.all(seq == 0, axis=(1, 2))]\n",
    "                if len(non_zero_frames) > 0:\n",
    "                    seq[i] = non_zero_frames[0]\n",
    "    return seq\n",
    "\n",
    "def pad_or_trim_sequence(seq, target_len):\n",
    "    if len(seq) > target_len:\n",
    "        return seq[:target_len]\n",
    "    elif len(seq) < target_len:\n",
    "        pad_len = target_len - len(seq)\n",
    "        padding = np.zeros((pad_len, KEYPOINTS, DIMENSIONS))\n",
    "        return np.vstack([seq, padding])\n",
    "    return seq\n",
    "\n",
    "# Processing\n",
    "processed_count = 0\n",
    "skipped_count = 0\n",
    "empty_count = 0\n",
    "\n",
    "for file in tqdm(os.listdir(POSE_ARRAY_DIR), desc=\"Processing poses\"):\n",
    "    if not file.endswith(\".npy\"):\n",
    "        continue\n",
    "    \n",
    "    pose_seq = np.load(os.path.join(POSE_ARRAY_DIR, file))\n",
    "\n",
    "    # Shape check\n",
    "    if pose_seq.ndim != 3 or pose_seq.shape[1] != KEYPOINTS:\n",
    "        skipped_count += 1\n",
    "        continue  \n",
    "\n",
    "    # Keep x, y only\n",
    "    if pose_seq.shape[2] > DIMENSIONS:\n",
    "        pose_seq = pose_seq[:, :, :DIMENSIONS]\n",
    "\n",
    "    # If all frames are zeros → no human detected in video\n",
    "    if np.all(pose_seq == 0):\n",
    "        np.save(os.path.join(EMPTY_SAVE_DIR, file), pose_seq)\n",
    "        empty_count += 1\n",
    "        continue\n",
    "\n",
    "    # Fill missing frames\n",
    "    pose_seq = fill_missing_frames(pose_seq)\n",
    "\n",
    "    # Normalize\n",
    "    pose_seq = np.array([normalize_pose(frame) for frame in pose_seq])\n",
    "\n",
    "    # Pad/trim\n",
    "    pose_seq = pad_or_trim_sequence(pose_seq, TARGET_FRAMES)\n",
    "\n",
    "    # Save\n",
    "    np.save(os.path.join(SAVE_DIR, file), pose_seq)\n",
    "    processed_count += 1\n",
    "\n",
    "print(f\"✅ Pose post-processing completed.\")\n",
    "print(f\"Processed: {processed_count}\")\n",
    "print(f\"Empty/no-human: {empty_count}\")\n",
    "print(f\"Skipped (corrupted): {skipped_count}\")\n",
    "print(f\"Saved to: {SAVE_DIR}\")\n",
    "print(f\"Empty videos saved to: {EMPTY_SAVE_DIR}\")"
   ]
  },
  {
   "cell_type": "code",
   "execution_count": null,
   "id": "1d5e7c26",
   "metadata": {},
   "outputs": [
    {
     "name": "stdout",
     "output_type": "stream",
     "text": [
      "✅ Shape OK for 799 files\n",
      "📉 Min value: -1.0\n",
      "📈 Max value: 1.0\n",
      "🛑 NaN count: 0\n",
      "⚠️ Empty sequences: 431\n"
     ]
    }
   ],
   "source": [
    "import numpy as np\n",
    "import os\n",
    "\n",
    "min_val, max_val = float('inf'), float('-inf')\n",
    "bad_shapes = []\n",
    "empty_count = 0\n",
    "nan_count = 0\n",
    "\n",
    "for file in os.listdir(SAVE_DIR):\n",
    "    if not file.endswith(\".npy\"):\n",
    "        continue\n",
    "\n",
    "    arr = np.load(os.path.join(SAVE_DIR, file))\n",
    "\n",
    "    # Check shape\n",
    "    if arr.shape != (TARGET_FRAMES, KEYPOINTS, DIMENSIONS):\n",
    "        bad_shapes.append((file, arr.shape))\n",
    "        continue\n",
    "\n",
    "    # Track min/max\n",
    "    min_val = min(min_val, arr.min())\n",
    "    max_val = max(max_val, arr.max())\n",
    "\n",
    "    # Count NaNs\n",
    "    if np.isnan(arr).any():\n",
    "        nan_count += 1\n",
    "\n",
    "    # Count empty frames\n",
    "    if np.all(arr == 0):\n",
    "        empty_count += 1\n",
    "\n",
    "print(f\"✅ Shape OK for {len(os.listdir(SAVE_DIR)) - len(bad_shapes)} files\")\n",
    "if bad_shapes:\n",
    "    print(f\"❌ Bad shapes: {bad_shapes}\")\n",
    "\n",
    "print(f\"📉 Min value: {min_val}\")\n",
    "print(f\"📈 Max value: {max_val}\")\n",
    "print(f\"🛑 NaN count: {nan_count}\")\n",
    "print(f\"⚠️ Empty sequences: {empty_count}\")"
   ]
  },
  {
   "cell_type": "markdown",
   "id": "4fa447f1",
   "metadata": {},
   "source": [
    "# Match labels with preprocessed pose arrays"
   ]
  },
  {
   "cell_type": "code",
   "execution_count": null,
   "id": "bbd12e5a",
   "metadata": {},
   "outputs": [
    {
     "name": "stdout",
     "output_type": "stream",
     "text": [
      "⚠ Found 56 filename conflicts: ['videppppsss_5', 'videppppsss_12', 'videppppsss_6', 'videppppsss_0', 'videppppsss_20', 'videppppsss_10', 'videppppsss_44', 'videppppsss_15', 'videppppsss_33', 'videppppsss_45', 'videppppsss_34', 'videppppsss_8', 'videppppsss_37', 'videppppsss_1', 'videppppsss_9', 'videppppsss_29', 'videppppsss_24', 'videppppsss_41', 'videppppsss_11', 'videppppsss_13', 'videppppsss_43', 'videppppsss_21', 'videppppsss_40', 'videppppsss_4', 'videppppsss_16', 'videppppsss_25', 'videppppsss_36', 'videppppsss_38', 'videppppsss_42', 'videppppsss_53', 'videppppsss_32', 'videppppsss_54', 'videppppsss_26', 'videppppsss_3', 'videppppsss_47', 'videppppsss_31', 'videppppsss_7', 'videppppsss_52', 'videppppsss_18', 'videppppsss_2', 'videppppsss_14', 'videppppsss_55', 'videppppsss_46', 'videppppsss_51', 'videppppsss_22', 'videppppsss_50', 'videppppsss_19', 'videppppsss_30', 'videppppsss_48', 'videppppsss_23', 'videppppsss_39', 'videppppsss_28', 'videppppsss_17', 'videppppsss_27', 'videppppsss_35', 'videppppsss_49']\n",
      "✅ Matched 743 pose arrays to labels\n",
      "⏩ Skipped 56 files (conflicts or no label found)\n",
      "💾 labels.csv saved successfully!\n"
     ]
    }
   ],
   "source": [
    "import os\n",
    "import pandas as pd\n",
    "\n",
    "# Paths\n",
    "RAW_SHOPLIFTERS = r\"G:\\Projects\\Cellula_Internship\\Shop_Lifting_Classification\\Shop_DataSet\\shop lifters\"\n",
    "RAW_NONSHOPLIFTERS = r\"G:\\Projects\\Cellula_Internship\\Shop_Lifting_Classification\\Shop_DataSet\\non shop lifters\"\n",
    "POSE_ARRAY_DIR = r\"processed_pose_arrays\"\n",
    "\n",
    "# Step 1: Build mapping from raw data\n",
    "label_map = {}\n",
    "conflicts = []\n",
    "\n",
    "# Shoplifters = label 1\n",
    "for f in os.listdir(RAW_SHOPLIFTERS):\n",
    "    if not f.lower().endswith(('.mp4', '.avi', '.mov')):\n",
    "        continue\n",
    "    name = os.path.splitext(f)[0]\n",
    "    if name in label_map and label_map[name] != 1:\n",
    "        conflicts.append(name)\n",
    "    else:\n",
    "        label_map[name] = 1\n",
    "\n",
    "# Non-shoplifters = label 0\n",
    "for f in os.listdir(RAW_NONSHOPLIFTERS):\n",
    "    if not f.lower().endswith(('.mp4', '.avi', '.mov')):\n",
    "        continue\n",
    "    name = os.path.splitext(f)[0]\n",
    "    if name in label_map and label_map[name] != 0:\n",
    "        conflicts.append(name)\n",
    "    else:\n",
    "        label_map[name] = 0\n",
    "\n",
    "conflicts = list(set(conflicts))\n",
    "print(f\"⚠ Found {len(conflicts)} filename conflicts: {conflicts}\")\n",
    "\n",
    "# Step 2: Match processed pose arrays to labels\n",
    "records = []\n",
    "skipped = 0\n",
    "\n",
    "for f in os.listdir(POSE_ARRAY_DIR):\n",
    "    if not f.endswith(\".npy\"):\n",
    "        continue\n",
    "    name = os.path.splitext(f)[0]  # without .npy\n",
    "    if name in conflicts:\n",
    "        skipped += 1\n",
    "        continue\n",
    "    if name in label_map:\n",
    "        records.append((f, label_map[name]))\n",
    "    else:\n",
    "        skipped += 1\n",
    "\n",
    "print(f\"✅ Matched {len(records)} pose arrays to labels\")\n",
    "print(f\"⏩ Skipped {skipped} files (conflicts or no label found)\")\n",
    "\n",
    "# Step 3: Save labels.csv\n",
    "df = pd.DataFrame(records, columns=[\"filename\", \"label\"])\n",
    "df.to_csv(\"labels.csv\", index=False)\n",
    "print(\"💾 labels.csv saved successfully!\")"
   ]
  },
  {
   "cell_type": "markdown",
   "id": "2c9a6ab8",
   "metadata": {},
   "source": [
    "# Splitting the dataset"
   ]
  },
  {
   "cell_type": "code",
   "execution_count": null,
   "id": "a0f2def0",
   "metadata": {},
   "outputs": [
    {
     "name": "stdout",
     "output_type": "stream",
     "text": [
      "✅ Non-empty sequences: 347\n",
      "Train: 242, Val: 52, Test: 53\n",
      "✅ Data split completed and saved.\n"
     ]
    }
   ],
   "source": [
    "import os\n",
    "import numpy as np\n",
    "import pandas as pd\n",
    "from sklearn.model_selection import train_test_split\n",
    "\n",
    "# Paths\n",
    "POSE_ARRAY_DIR = r\"processed_pose_arrays\"\n",
    "LABELS_CSV = r\"labels.csv\"\n",
    "\n",
    "# Load labels\n",
    "df = pd.read_csv(LABELS_CSV)\n",
    "\n",
    "# Function to check if a sequence is empty\n",
    "def is_empty_sequence(file_path):\n",
    "    arr = np.load(file_path)\n",
    "    return np.all(arr == 0)\n",
    "\n",
    "# Remove empty sequences\n",
    "mask = []\n",
    "for idx, row in df.iterrows():\n",
    "    file_path = os.path.join(POSE_ARRAY_DIR, row['filename'])\n",
    "    if os.path.exists(file_path) and not is_empty_sequence(file_path):\n",
    "        mask.append(True)\n",
    "    else:\n",
    "        mask.append(False)\n",
    "\n",
    "df = df[mask].reset_index(drop=True)\n",
    "print(f\"✅ Non-empty sequences: {len(df)}\")\n",
    "\n",
    "# Stratified split\n",
    "train_df, temp_df = train_test_split(df, test_size=0.30, stratify=df['label'], random_state=42)\n",
    "val_df, test_df = train_test_split(temp_df, test_size=0.50, stratify=temp_df['label'], random_state=42)\n",
    "\n",
    "print(f\"Train: {len(train_df)}, Val: {len(val_df)}, Test: {len(test_df)}\")\n",
    "\n",
    "# Save splits\n",
    "train_df.to_csv(\"train_labels.csv\", index=False)\n",
    "val_df.to_csv(\"val_labels.csv\", index=False)\n",
    "test_df.to_csv(\"test_labels.csv\", index=False)\n",
    "\n",
    "print(\"✅ Data split completed and saved.\")"
   ]
  },
  {
   "cell_type": "code",
   "execution_count": null,
   "id": "dd5ed09a",
   "metadata": {},
   "outputs": [
    {
     "name": "stdout",
     "output_type": "stream",
     "text": [
      "Class weights: {0: np.float64(0.7469135802469136), 1: np.float64(1.5125)}\n",
      "Shapes:\n",
      "X_train: (242, 96, 33, 2) y_train: (242,)\n",
      "X_val: (52, 96, 33, 2) y_val: (52,)\n",
      "X_test: (53, 96, 33, 2) y_test: (53,)\n",
      "Train size: 242\n",
      "Val size: 52\n",
      "Test size: 53\n"
     ]
    }
   ],
   "source": [
    "import pandas as pd\n",
    "import numpy as np\n",
    "import os\n",
    "from sklearn.utils.class_weight import compute_class_weight\n",
    "\n",
    "# Paths to CSVs\n",
    "TRAIN_LABELS = r\"train_labels.csv\"\n",
    "VAL_LABELS   = r\"val_labels.csv\"\n",
    "TEST_LABELS  = r\"test_labels.csv\"\n",
    "\n",
    "# Folder where processed .npy pose arrays are saved\n",
    "POSE_DIR = r\"processed_pose_arrays\"\n",
    "\n",
    "# Function to load data\n",
    "def load_data(labels_csv_path):\n",
    "    df = pd.read_csv(labels_csv_path)\n",
    "    X = []\n",
    "    y = []\n",
    "\n",
    "    for _, row in df.iterrows():\n",
    "        filename = row['filename']  # column name in your labels.csv\n",
    "        label = row['label']\n",
    "\n",
    "        npy_path = os.path.join(POSE_DIR, filename)\n",
    "\n",
    "        if not os.path.exists(npy_path):\n",
    "            print(f\"⚠️ Missing file: {npy_path}\")\n",
    "            continue\n",
    "\n",
    "        pose_array = np.load(npy_path)\n",
    "        X.append(pose_array)\n",
    "        y.append(label)\n",
    "\n",
    "    X = np.array(X, dtype=np.float32)\n",
    "    y = np.array(y, dtype=np.float32)\n",
    "    return X, y\n",
    "\n",
    "# Load each split\n",
    "X_train, y_train = load_data(TRAIN_LABELS)\n",
    "X_val,   y_val   = load_data(VAL_LABELS)\n",
    "X_test,  y_test  = load_data(TEST_LABELS)\n",
    "\n",
    "# === Compute class weights ===\n",
    "class_weights = compute_class_weight(\n",
    "    class_weight='balanced',\n",
    "    classes=np.unique(y_train),\n",
    "    y=y_train\n",
    ")\n",
    "class_weights = dict(enumerate(class_weights))\n",
    "print(\"Class weights:\", class_weights)\n",
    "\n",
    "\"\"\" y_train = y_train.astype(np.int32)\n",
    "y_val   = y_val.astype(np.int32)\n",
    "y_test  = y_test.astype(np.int32) \"\"\"\n",
    "\n",
    "print(\"Shapes:\")\n",
    "print(\"X_train:\", X_train.shape, \"y_train:\", y_train.shape)\n",
    "print(\"X_val:\", X_val.shape, \"y_val:\", y_val.shape)\n",
    "print(\"X_test:\", X_test.shape, \"y_test:\", y_test.shape)\n",
    "\n",
    "print(\"Train size:\", len(X_train))\n",
    "print(\"Val size:\", len(X_val))\n",
    "print(\"Test size:\", len(X_test))"
   ]
  },
  {
   "cell_type": "markdown",
   "id": "46f1b22d",
   "metadata": {},
   "source": [
    "# Model Architecture"
   ]
  },
  {
   "cell_type": "code",
   "execution_count": null,
   "id": "d0b9723d",
   "metadata": {},
   "outputs": [
    {
     "name": "stderr",
     "output_type": "stream",
     "text": [
      "c:\\Users\\mazen\\anaconda3\\envs\\teeth-cnn\\lib\\site-packages\\keras\\src\\layers\\core\\wrapper.py:27: UserWarning: Do not pass an `input_shape`/`input_dim` argument to a layer. When using Sequential models, prefer using an `Input(shape)` object as the first layer in the model instead.\n",
      "  super().__init__(**kwargs)\n"
     ]
    },
    {
     "data": {
      "text/html": [
       "<pre style=\"white-space:pre;overflow-x:auto;line-height:normal;font-family:Menlo,'DejaVu Sans Mono',consolas,'Courier New',monospace\"><span style=\"font-weight: bold\">Model: \"sequential_8\"</span>\n",
       "</pre>\n"
      ],
      "text/plain": [
       "\u001b[1mModel: \"sequential_8\"\u001b[0m\n"
      ]
     },
     "metadata": {},
     "output_type": "display_data"
    },
    {
     "data": {
      "text/html": [
       "<pre style=\"white-space:pre;overflow-x:auto;line-height:normal;font-family:Menlo,'DejaVu Sans Mono',consolas,'Courier New',monospace\">┏━━━━━━━━━━━━━━━━━━━━━━━━━━━━━━━━━┳━━━━━━━━━━━━━━━━━━━━━━━━┳━━━━━━━━━━━━━━━┓\n",
       "┃<span style=\"font-weight: bold\"> Layer (type)                    </span>┃<span style=\"font-weight: bold\"> Output Shape           </span>┃<span style=\"font-weight: bold\">       Param # </span>┃\n",
       "┡━━━━━━━━━━━━━━━━━━━━━━━━━━━━━━━━━╇━━━━━━━━━━━━━━━━━━━━━━━━╇━━━━━━━━━━━━━━━┩\n",
       "│ time_distributed_32             │ (<span style=\"color: #00d7ff; text-decoration-color: #00d7ff\">None</span>, <span style=\"color: #00af00; text-decoration-color: #00af00\">96</span>, <span style=\"color: #00af00; text-decoration-color: #00af00\">31</span>, <span style=\"color: #00af00; text-decoration-color: #00af00\">64</span>)     │           <span style=\"color: #00af00; text-decoration-color: #00af00\">448</span> │\n",
       "│ (<span style=\"color: #0087ff; text-decoration-color: #0087ff\">TimeDistributed</span>)               │                        │               │\n",
       "├─────────────────────────────────┼────────────────────────┼───────────────┤\n",
       "│ time_distributed_33             │ (<span style=\"color: #00d7ff; text-decoration-color: #00d7ff\">None</span>, <span style=\"color: #00af00; text-decoration-color: #00af00\">96</span>, <span style=\"color: #00af00; text-decoration-color: #00af00\">15</span>, <span style=\"color: #00af00; text-decoration-color: #00af00\">64</span>)     │             <span style=\"color: #00af00; text-decoration-color: #00af00\">0</span> │\n",
       "│ (<span style=\"color: #0087ff; text-decoration-color: #0087ff\">TimeDistributed</span>)               │                        │               │\n",
       "├─────────────────────────────────┼────────────────────────┼───────────────┤\n",
       "│ time_distributed_34             │ (<span style=\"color: #00d7ff; text-decoration-color: #00d7ff\">None</span>, <span style=\"color: #00af00; text-decoration-color: #00af00\">96</span>, <span style=\"color: #00af00; text-decoration-color: #00af00\">15</span>, <span style=\"color: #00af00; text-decoration-color: #00af00\">64</span>)     │           <span style=\"color: #00af00; text-decoration-color: #00af00\">256</span> │\n",
       "│ (<span style=\"color: #0087ff; text-decoration-color: #0087ff\">TimeDistributed</span>)               │                        │               │\n",
       "├─────────────────────────────────┼────────────────────────┼───────────────┤\n",
       "│ time_distributed_35             │ (<span style=\"color: #00d7ff; text-decoration-color: #00d7ff\">None</span>, <span style=\"color: #00af00; text-decoration-color: #00af00\">96</span>, <span style=\"color: #00af00; text-decoration-color: #00af00\">960</span>)        │             <span style=\"color: #00af00; text-decoration-color: #00af00\">0</span> │\n",
       "│ (<span style=\"color: #0087ff; text-decoration-color: #0087ff\">TimeDistributed</span>)               │                        │               │\n",
       "├─────────────────────────────────┼────────────────────────┼───────────────┤\n",
       "│ bidirectional_8 (<span style=\"color: #0087ff; text-decoration-color: #0087ff\">Bidirectional</span>) │ (<span style=\"color: #00d7ff; text-decoration-color: #00d7ff\">None</span>, <span style=\"color: #00af00; text-decoration-color: #00af00\">256</span>)            │     <span style=\"color: #00af00; text-decoration-color: #00af00\">1,115,136</span> │\n",
       "├─────────────────────────────────┼────────────────────────┼───────────────┤\n",
       "│ dropout_16 (<span style=\"color: #0087ff; text-decoration-color: #0087ff\">Dropout</span>)            │ (<span style=\"color: #00d7ff; text-decoration-color: #00d7ff\">None</span>, <span style=\"color: #00af00; text-decoration-color: #00af00\">256</span>)            │             <span style=\"color: #00af00; text-decoration-color: #00af00\">0</span> │\n",
       "├─────────────────────────────────┼────────────────────────┼───────────────┤\n",
       "│ dense_16 (<span style=\"color: #0087ff; text-decoration-color: #0087ff\">Dense</span>)                │ (<span style=\"color: #00d7ff; text-decoration-color: #00d7ff\">None</span>, <span style=\"color: #00af00; text-decoration-color: #00af00\">64</span>)             │        <span style=\"color: #00af00; text-decoration-color: #00af00\">16,448</span> │\n",
       "├─────────────────────────────────┼────────────────────────┼───────────────┤\n",
       "│ dropout_17 (<span style=\"color: #0087ff; text-decoration-color: #0087ff\">Dropout</span>)            │ (<span style=\"color: #00d7ff; text-decoration-color: #00d7ff\">None</span>, <span style=\"color: #00af00; text-decoration-color: #00af00\">64</span>)             │             <span style=\"color: #00af00; text-decoration-color: #00af00\">0</span> │\n",
       "├─────────────────────────────────┼────────────────────────┼───────────────┤\n",
       "│ dense_17 (<span style=\"color: #0087ff; text-decoration-color: #0087ff\">Dense</span>)                │ (<span style=\"color: #00d7ff; text-decoration-color: #00d7ff\">None</span>, <span style=\"color: #00af00; text-decoration-color: #00af00\">1</span>)              │            <span style=\"color: #00af00; text-decoration-color: #00af00\">65</span> │\n",
       "└─────────────────────────────────┴────────────────────────┴───────────────┘\n",
       "</pre>\n"
      ],
      "text/plain": [
       "┏━━━━━━━━━━━━━━━━━━━━━━━━━━━━━━━━━┳━━━━━━━━━━━━━━━━━━━━━━━━┳━━━━━━━━━━━━━━━┓\n",
       "┃\u001b[1m \u001b[0m\u001b[1mLayer (type)                   \u001b[0m\u001b[1m \u001b[0m┃\u001b[1m \u001b[0m\u001b[1mOutput Shape          \u001b[0m\u001b[1m \u001b[0m┃\u001b[1m \u001b[0m\u001b[1m      Param #\u001b[0m\u001b[1m \u001b[0m┃\n",
       "┡━━━━━━━━━━━━━━━━━━━━━━━━━━━━━━━━━╇━━━━━━━━━━━━━━━━━━━━━━━━╇━━━━━━━━━━━━━━━┩\n",
       "│ time_distributed_32             │ (\u001b[38;5;45mNone\u001b[0m, \u001b[38;5;34m96\u001b[0m, \u001b[38;5;34m31\u001b[0m, \u001b[38;5;34m64\u001b[0m)     │           \u001b[38;5;34m448\u001b[0m │\n",
       "│ (\u001b[38;5;33mTimeDistributed\u001b[0m)               │                        │               │\n",
       "├─────────────────────────────────┼────────────────────────┼───────────────┤\n",
       "│ time_distributed_33             │ (\u001b[38;5;45mNone\u001b[0m, \u001b[38;5;34m96\u001b[0m, \u001b[38;5;34m15\u001b[0m, \u001b[38;5;34m64\u001b[0m)     │             \u001b[38;5;34m0\u001b[0m │\n",
       "│ (\u001b[38;5;33mTimeDistributed\u001b[0m)               │                        │               │\n",
       "├─────────────────────────────────┼────────────────────────┼───────────────┤\n",
       "│ time_distributed_34             │ (\u001b[38;5;45mNone\u001b[0m, \u001b[38;5;34m96\u001b[0m, \u001b[38;5;34m15\u001b[0m, \u001b[38;5;34m64\u001b[0m)     │           \u001b[38;5;34m256\u001b[0m │\n",
       "│ (\u001b[38;5;33mTimeDistributed\u001b[0m)               │                        │               │\n",
       "├─────────────────────────────────┼────────────────────────┼───────────────┤\n",
       "│ time_distributed_35             │ (\u001b[38;5;45mNone\u001b[0m, \u001b[38;5;34m96\u001b[0m, \u001b[38;5;34m960\u001b[0m)        │             \u001b[38;5;34m0\u001b[0m │\n",
       "│ (\u001b[38;5;33mTimeDistributed\u001b[0m)               │                        │               │\n",
       "├─────────────────────────────────┼────────────────────────┼───────────────┤\n",
       "│ bidirectional_8 (\u001b[38;5;33mBidirectional\u001b[0m) │ (\u001b[38;5;45mNone\u001b[0m, \u001b[38;5;34m256\u001b[0m)            │     \u001b[38;5;34m1,115,136\u001b[0m │\n",
       "├─────────────────────────────────┼────────────────────────┼───────────────┤\n",
       "│ dropout_16 (\u001b[38;5;33mDropout\u001b[0m)            │ (\u001b[38;5;45mNone\u001b[0m, \u001b[38;5;34m256\u001b[0m)            │             \u001b[38;5;34m0\u001b[0m │\n",
       "├─────────────────────────────────┼────────────────────────┼───────────────┤\n",
       "│ dense_16 (\u001b[38;5;33mDense\u001b[0m)                │ (\u001b[38;5;45mNone\u001b[0m, \u001b[38;5;34m64\u001b[0m)             │        \u001b[38;5;34m16,448\u001b[0m │\n",
       "├─────────────────────────────────┼────────────────────────┼───────────────┤\n",
       "│ dropout_17 (\u001b[38;5;33mDropout\u001b[0m)            │ (\u001b[38;5;45mNone\u001b[0m, \u001b[38;5;34m64\u001b[0m)             │             \u001b[38;5;34m0\u001b[0m │\n",
       "├─────────────────────────────────┼────────────────────────┼───────────────┤\n",
       "│ dense_17 (\u001b[38;5;33mDense\u001b[0m)                │ (\u001b[38;5;45mNone\u001b[0m, \u001b[38;5;34m1\u001b[0m)              │            \u001b[38;5;34m65\u001b[0m │\n",
       "└─────────────────────────────────┴────────────────────────┴───────────────┘\n"
      ]
     },
     "metadata": {},
     "output_type": "display_data"
    },
    {
     "data": {
      "text/html": [
       "<pre style=\"white-space:pre;overflow-x:auto;line-height:normal;font-family:Menlo,'DejaVu Sans Mono',consolas,'Courier New',monospace\"><span style=\"font-weight: bold\"> Total params: </span><span style=\"color: #00af00; text-decoration-color: #00af00\">1,132,353</span> (4.32 MB)\n",
       "</pre>\n"
      ],
      "text/plain": [
       "\u001b[1m Total params: \u001b[0m\u001b[38;5;34m1,132,353\u001b[0m (4.32 MB)\n"
      ]
     },
     "metadata": {},
     "output_type": "display_data"
    },
    {
     "data": {
      "text/html": [
       "<pre style=\"white-space:pre;overflow-x:auto;line-height:normal;font-family:Menlo,'DejaVu Sans Mono',consolas,'Courier New',monospace\"><span style=\"font-weight: bold\"> Trainable params: </span><span style=\"color: #00af00; text-decoration-color: #00af00\">1,132,225</span> (4.32 MB)\n",
       "</pre>\n"
      ],
      "text/plain": [
       "\u001b[1m Trainable params: \u001b[0m\u001b[38;5;34m1,132,225\u001b[0m (4.32 MB)\n"
      ]
     },
     "metadata": {},
     "output_type": "display_data"
    },
    {
     "data": {
      "text/html": [
       "<pre style=\"white-space:pre;overflow-x:auto;line-height:normal;font-family:Menlo,'DejaVu Sans Mono',consolas,'Courier New',monospace\"><span style=\"font-weight: bold\"> Non-trainable params: </span><span style=\"color: #00af00; text-decoration-color: #00af00\">128</span> (512.00 B)\n",
       "</pre>\n"
      ],
      "text/plain": [
       "\u001b[1m Non-trainable params: \u001b[0m\u001b[38;5;34m128\u001b[0m (512.00 B)\n"
      ]
     },
     "metadata": {},
     "output_type": "display_data"
    }
   ],
   "source": [
    "import tensorflow as tf\n",
    "from tensorflow.keras.models import Sequential\n",
    "from tensorflow.keras.layers import TimeDistributed, Conv1D, MaxPooling1D, Flatten\n",
    "from tensorflow.keras.layers import Bidirectional, LSTM, Dense, Dropout, BatchNormalization\n",
    "from tensorflow.keras import backend as K\n",
    "\n",
    "SEQ_LEN = 96\n",
    "KEYPOINTS = 33\n",
    "DIMENSIONS = 2\n",
    "\n",
    "# --- Model ---\n",
    "# === Model Architecture ===\n",
    "def build_model(seq_len, keypoints, dims):\n",
    "    inputs = layers.Input(shape=(seq_len, keypoints, dims))\n",
    "\n",
    "    # CNN feature extractor\n",
    "    x = layers.TimeDistributed(layers.Conv1D(64, 3, activation='relu'))(inputs)\n",
    "    x = layers.TimeDistributed(layers.MaxPooling1D(2))(x)\n",
    "    x = layers.TimeDistributed(layers.Dropout(0.3))(x)\n",
    "\n",
    "    x = layers.TimeDistributed(layers.Conv1D(128, 3, activation='relu'))(x)\n",
    "    x = layers.TimeDistributed(layers.MaxPooling1D(2))(x)\n",
    "    x = layers.TimeDistributed(layers.Dropout(0.3))(x)\n",
    "\n",
    "    x = layers.TimeDistributed(layers.Flatten())(x)\n",
    "\n",
    "    # BiLSTM\n",
    "    x = layers.Bidirectional(layers.LSTM(128, return_sequences=False, dropout=0.4, recurrent_dropout=0.3))(x)\n",
    "\n",
    "    # Dense\n",
    "    x = layers.Dense(64, activation='relu')(x)\n",
    "    x = layers.Dropout(0.4)(x)\n",
    "\n",
    "    outputs = layers.Dense(1, activation='sigmoid')(x)\n",
    "\n",
    "    model = models.Model(inputs, outputs)\n",
    "    model.compile(\n",
    "        loss='binary_crossentropy',\n",
    "        optimizer=tf.keras.optimizers.Adam(learning_rate=1e-4),\n",
    "        metrics=[\n",
    "            'accuracy',\n",
    "            tf.keras.metrics.AUC(name='auc'),\n",
    "            tf.keras.metrics.Precision(name='precision'),\n",
    "            tf.keras.metrics.Recall(name='recall')\n",
    "        ]\n",
    "    )\n",
    "    return model\n",
    "\n",
    "def f1_score(y_true, y_pred):\n",
    "    y_true = K.cast(y_true, 'float32')\n",
    "    y_pred = K.round(y_pred)\n",
    "    tp = K.sum(y_true * y_pred)\n",
    "    fp = K.sum((1.0 - y_true) * y_pred)\n",
    "    fn = K.sum(y_true * (1.0 - y_pred))\n",
    "    precision = tp / (tp + fp + K.epsilon())\n",
    "    recall    = tp / (tp + fn + K.epsilon())\n",
    "    return 2.0 * precision * recall / (precision + recall + K.epsilon())\n",
    "\n",
    "model = build_pose_cnn_bilstm()\n",
    "\n",
    "model.compile(\n",
    "    optimizer='adam',\n",
    "    loss='binary_crossentropy',\n",
    "    metrics=[\n",
    "        f1_score,\n",
    "        tf.keras.metrics.BinaryAccuracy(name='accuracy'),\n",
    "        tf.keras.metrics.Precision(name='precision'),\n",
    "        tf.keras.metrics.Recall(name='recall'),\n",
    "        tf.keras.metrics.AUC(name='auc'),\n",
    "    ]\n",
    ")\n",
    "\n",
    "model.summary()"
   ]
  },
  {
   "cell_type": "markdown",
   "id": "6046a6b8",
   "metadata": {},
   "source": [
    "# Model Training"
   ]
  },
  {
   "cell_type": "code",
   "execution_count": null,
   "id": "e07a4c9e",
   "metadata": {},
   "outputs": [
    {
     "name": "stdout",
     "output_type": "stream",
     "text": [
      "Train size: 242\n",
      "Val size: 52\n",
      "Test size: 53\n",
      "Epoch 1/50\n",
      "\u001b[1m16/16\u001b[0m \u001b[32m━━━━━━━━━━━━━━━━━━━━\u001b[0m\u001b[37m\u001b[0m \u001b[1m157s\u001b[0m 3s/step - accuracy: 0.5226 - auc: 0.5522 - f1_score: 0.3597 - loss: 0.7799 - precision: 0.3452 - recall: 0.5249 - val_accuracy: 0.5769 - val_auc: 0.6176 - val_f1_score: 0.3383 - val_loss: 0.6530 - val_precision: 0.3684 - val_recall: 0.4118\n",
      "Epoch 2/50\n",
      "\u001b[1m16/16\u001b[0m \u001b[32m━━━━━━━━━━━━━━━━━━━━\u001b[0m\u001b[37m\u001b[0m \u001b[1m21s\u001b[0m 1s/step - accuracy: 0.5950 - auc: 0.6517 - f1_score: 0.3259 - loss: 0.6423 - precision: 0.3582 - recall: 0.4517 - val_accuracy: 0.5769 - val_auc: 0.7269 - val_f1_score: 0.4395 - val_loss: 0.7209 - val_precision: 0.4242 - val_recall: 0.8235\n",
      "Epoch 3/50\n",
      "\u001b[1m16/16\u001b[0m \u001b[32m━━━━━━━━━━━━━━━━━━━━\u001b[0m\u001b[37m\u001b[0m \u001b[1m20s\u001b[0m 1s/step - accuracy: 0.5349 - auc: 0.5782 - f1_score: 0.4046 - loss: 0.7410 - precision: 0.3845 - recall: 0.5951 - val_accuracy: 0.6538 - val_auc: 0.6277 - val_f1_score: 0.3484 - val_loss: 0.6862 - val_precision: 0.4762 - val_recall: 0.5882\n",
      "Epoch 4/50\n",
      "\u001b[1m16/16\u001b[0m \u001b[32m━━━━━━━━━━━━━━━━━━━━\u001b[0m\u001b[37m\u001b[0m \u001b[1m21s\u001b[0m 1s/step - accuracy: 0.6596 - auc: 0.6815 - f1_score: 0.2938 - loss: 0.6466 - precision: 0.4707 - recall: 0.5219 - val_accuracy: 0.6923 - val_auc: 0.6958 - val_f1_score: 0.3969 - val_loss: 0.6467 - val_precision: 0.5217 - val_recall: 0.7059\n",
      "Epoch 5/50\n",
      "\u001b[1m16/16\u001b[0m \u001b[32m━━━━━━━━━━━━━━━━━━━━\u001b[0m\u001b[37m\u001b[0m \u001b[1m21s\u001b[0m 1s/step - accuracy: 0.6307 - auc: 0.6996 - f1_score: 0.3793 - loss: 0.6278 - precision: 0.4720 - recall: 0.7055 - val_accuracy: 0.5962 - val_auc: 0.6908 - val_f1_score: 0.3529 - val_loss: 0.6393 - val_precision: 0.4091 - val_recall: 0.5294\n",
      "Epoch 6/50\n",
      "\u001b[1m16/16\u001b[0m \u001b[32m━━━━━━━━━━━━━━━━━━━━\u001b[0m\u001b[37m\u001b[0m \u001b[1m20s\u001b[0m 1s/step - accuracy: 0.6610 - auc: 0.6937 - f1_score: 0.3172 - loss: 0.6430 - precision: 0.4752 - recall: 0.5239 - val_accuracy: 0.5962 - val_auc: 0.6908 - val_f1_score: 0.4029 - val_loss: 0.6509 - val_precision: 0.4167 - val_recall: 0.5882\n",
      "Epoch 7/50\n",
      "\u001b[1m16/16\u001b[0m \u001b[32m━━━━━━━━━━━━━━━━━━━━\u001b[0m\u001b[37m\u001b[0m \u001b[1m20s\u001b[0m 1s/step - accuracy: 0.6165 - auc: 0.6216 - f1_score: 0.3966 - loss: 0.7145 - precision: 0.4732 - recall: 0.6213 - val_accuracy: 0.5769 - val_auc: 0.7025 - val_f1_score: 0.4150 - val_loss: 0.6601 - val_precision: 0.4074 - val_recall: 0.6471\n",
      "Epoch 8/50\n",
      "\u001b[1m16/16\u001b[0m \u001b[32m━━━━━━━━━━━━━━━━━━━━\u001b[0m\u001b[37m\u001b[0m \u001b[1m20s\u001b[0m 1s/step - accuracy: 0.5836 - auc: 0.6010 - f1_score: 0.3123 - loss: 0.6813 - precision: 0.3453 - recall: 0.4268 - val_accuracy: 0.6346 - val_auc: 0.6681 - val_f1_score: 0.4358 - val_loss: 0.6882 - val_precision: 0.4688 - val_recall: 0.8824\n",
      "Epoch 9/50\n",
      "\u001b[1m16/16\u001b[0m \u001b[32m━━━━━━━━━━━━━━━━━━━━\u001b[0m\u001b[37m\u001b[0m \u001b[1m19s\u001b[0m 1s/step - accuracy: 0.6891 - auc: 0.7465 - f1_score: 0.3669 - loss: 0.5884 - precision: 0.5236 - recall: 0.7489 - val_accuracy: 0.5385 - val_auc: 0.6613 - val_f1_score: 0.3758 - val_loss: 0.6752 - val_precision: 0.3704 - val_recall: 0.5882\n",
      "Epoch 10/50\n",
      "\u001b[1m16/16\u001b[0m \u001b[32m━━━━━━━━━━━━━━━━━━━━\u001b[0m\u001b[37m\u001b[0m \u001b[1m20s\u001b[0m 1s/step - accuracy: 0.5916 - auc: 0.6595 - f1_score: 0.4047 - loss: 0.6774 - precision: 0.4546 - recall: 0.6002 - val_accuracy: 0.5577 - val_auc: 0.6496 - val_f1_score: 0.4398 - val_loss: 0.7159 - val_precision: 0.4118 - val_recall: 0.8235\n",
      "Epoch 11/50\n",
      "\u001b[1m16/16\u001b[0m \u001b[32m━━━━━━━━━━━━━━━━━━━━\u001b[0m\u001b[37m\u001b[0m \u001b[1m21s\u001b[0m 1s/step - accuracy: 0.6075 - auc: 0.6482 - f1_score: 0.3618 - loss: 0.6501 - precision: 0.4182 - recall: 0.6116 - val_accuracy: 0.5577 - val_auc: 0.6647 - val_f1_score: 0.4203 - val_loss: 0.6980 - val_precision: 0.3929 - val_recall: 0.6471\n",
      "Epoch 12/50\n",
      "\u001b[1m16/16\u001b[0m \u001b[32m━━━━━━━━━━━━━━━━━━━━\u001b[0m\u001b[37m\u001b[0m \u001b[1m20s\u001b[0m 1s/step - accuracy: 0.6186 - auc: 0.6732 - f1_score: 0.3296 - loss: 0.6264 - precision: 0.3998 - recall: 0.5290 - val_accuracy: 0.5962 - val_auc: 0.6874 - val_f1_score: 0.4203 - val_loss: 0.6757 - val_precision: 0.4286 - val_recall: 0.7059\n",
      "Epoch 13/50\n",
      "\u001b[1m16/16\u001b[0m \u001b[32m━━━━━━━━━━━━━━━━━━━━\u001b[0m\u001b[37m\u001b[0m \u001b[1m20s\u001b[0m 1s/step - accuracy: 0.6015 - auc: 0.7624 - f1_score: 0.4161 - loss: 0.5851 - precision: 0.4483 - recall: 0.8240 - val_accuracy: 0.6154 - val_auc: 0.6588 - val_f1_score: 0.4380 - val_loss: 0.7495 - val_precision: 0.4545 - val_recall: 0.8824\n",
      "Epoch 14/50\n",
      "\u001b[1m16/16\u001b[0m \u001b[32m━━━━━━━━━━━━━━━━━━━━\u001b[0m\u001b[37m\u001b[0m \u001b[1m22s\u001b[0m 1s/step - accuracy: 0.6601 - auc: 0.7425 - f1_score: 0.4084 - loss: 0.5970 - precision: 0.5034 - recall: 0.8095 - val_accuracy: 0.6538 - val_auc: 0.6899 - val_f1_score: 0.4056 - val_loss: 0.6652 - val_precision: 0.4800 - val_recall: 0.7059\n",
      "Epoch 15/50\n",
      "\u001b[1m16/16\u001b[0m \u001b[32m━━━━━━━━━━━━━━━━━━━━\u001b[0m\u001b[37m\u001b[0m \u001b[1m22s\u001b[0m 1s/step - accuracy: 0.6877 - auc: 0.7496 - f1_score: 0.2691 - loss: 0.5658 - precision: 0.4714 - recall: 0.5594 - val_accuracy: 0.5962 - val_auc: 0.6882 - val_f1_score: 0.4416 - val_loss: 0.7043 - val_precision: 0.4412 - val_recall: 0.8824\n",
      "Epoch 16/50\n",
      "\u001b[1m16/16\u001b[0m \u001b[32m━━━━━━━━━━━━━━━━━━━━\u001b[0m\u001b[37m\u001b[0m \u001b[1m23s\u001b[0m 1s/step - accuracy: 0.6309 - auc: 0.7457 - f1_score: 0.3428 - loss: 0.5573 - precision: 0.4112 - recall: 0.6597 - val_accuracy: 0.6154 - val_auc: 0.6924 - val_f1_score: 0.4160 - val_loss: 0.6769 - val_precision: 0.4444 - val_recall: 0.7059\n",
      "Epoch 17/50\n",
      "\u001b[1m16/16\u001b[0m \u001b[32m━━━━━━━━━━━━━━━━━━━━\u001b[0m\u001b[37m\u001b[0m \u001b[1m21s\u001b[0m 1s/step - accuracy: 0.6844 - auc: 0.7776 - f1_score: 0.3402 - loss: 0.5497 - precision: 0.4821 - recall: 0.6653 - val_accuracy: 0.5962 - val_auc: 0.6672 - val_f1_score: 0.4088 - val_loss: 0.6929 - val_precision: 0.4231 - val_recall: 0.6471\n",
      "Epoch 18/50\n",
      "\u001b[1m16/16\u001b[0m \u001b[32m━━━━━━━━━━━━━━━━━━━━\u001b[0m\u001b[37m\u001b[0m \u001b[1m20s\u001b[0m 1s/step - accuracy: 0.6861 - auc: 0.7694 - f1_score: 0.3604 - loss: 0.5701 - precision: 0.5242 - recall: 0.6978 - val_accuracy: 0.5962 - val_auc: 0.6908 - val_f1_score: 0.4270 - val_loss: 0.6972 - val_precision: 0.4333 - val_recall: 0.7647\n",
      "Epoch 19/50\n",
      "\u001b[1m16/16\u001b[0m \u001b[32m━━━━━━━━━━━━━━━━━━━━\u001b[0m\u001b[37m\u001b[0m \u001b[1m20s\u001b[0m 1s/step - accuracy: 0.7293 - auc: 0.8052 - f1_score: 0.3476 - loss: 0.5255 - precision: 0.5512 - recall: 0.7220 - val_accuracy: 0.6154 - val_auc: 0.6748 - val_f1_score: 0.4150 - val_loss: 0.6824 - val_precision: 0.4444 - val_recall: 0.7059\n",
      "Epoch 20/50\n",
      "\u001b[1m16/16\u001b[0m \u001b[32m━━━━━━━━━━━━━━━━━━━━\u001b[0m\u001b[37m\u001b[0m \u001b[1m21s\u001b[0m 1s/step - accuracy: 0.7184 - auc: 0.8060 - f1_score: 0.3676 - loss: 0.5338 - precision: 0.5283 - recall: 0.8660 - val_accuracy: 0.6154 - val_auc: 0.6941 - val_f1_score: 0.3601 - val_loss: 0.6344 - val_precision: 0.4348 - val_recall: 0.5882\n",
      "Epoch 21/50\n",
      "\u001b[1m16/16\u001b[0m \u001b[32m━━━━━━━━━━━━━━━━━━━━\u001b[0m\u001b[37m\u001b[0m \u001b[1m21s\u001b[0m 1s/step - accuracy: 0.7156 - auc: 0.8216 - f1_score: 0.3115 - loss: 0.5064 - precision: 0.4958 - recall: 0.7566 - val_accuracy: 0.5962 - val_auc: 0.6748 - val_f1_score: 0.4270 - val_loss: 0.7062 - val_precision: 0.4333 - val_recall: 0.7647\n",
      "Epoch 22/50\n",
      "\u001b[1m16/16\u001b[0m \u001b[32m━━━━━━━━━━━━━━━━━━━━\u001b[0m\u001b[37m\u001b[0m \u001b[1m21s\u001b[0m 1s/step - accuracy: 0.6463 - auc: 0.7500 - f1_score: 0.4068 - loss: 0.5981 - precision: 0.4926 - recall: 0.7811 - val_accuracy: 0.6154 - val_auc: 0.6706 - val_f1_score: 0.3484 - val_loss: 0.6451 - val_precision: 0.4286 - val_recall: 0.5294\n",
      "Epoch 23/50\n",
      "\u001b[1m16/16\u001b[0m \u001b[32m━━━━━━━━━━━━━━━━━━━━\u001b[0m\u001b[37m\u001b[0m \u001b[1m20s\u001b[0m 1s/step - accuracy: 0.6697 - auc: 0.7713 - f1_score: 0.3716 - loss: 0.5783 - precision: 0.5335 - recall: 0.6358 - val_accuracy: 0.6346 - val_auc: 0.6731 - val_f1_score: 0.3545 - val_loss: 0.6794 - val_precision: 0.4545 - val_recall: 0.5882\n",
      "Epoch 24/50\n",
      "\u001b[1m16/16\u001b[0m \u001b[32m━━━━━━━━━━━━━━━━━━━━\u001b[0m\u001b[37m\u001b[0m \u001b[1m20s\u001b[0m 1s/step - accuracy: 0.6950 - auc: 0.7650 - f1_score: 0.3460 - loss: 0.5870 - precision: 0.5246 - recall: 0.6295 - val_accuracy: 0.6154 - val_auc: 0.6807 - val_f1_score: 0.4216 - val_loss: 0.7385 - val_precision: 0.4483 - val_recall: 0.7647\n",
      "Epoch 25/50\n",
      "\u001b[1m16/16\u001b[0m \u001b[32m━━━━━━━━━━━━━━━━━━━━\u001b[0m\u001b[37m\u001b[0m \u001b[1m20s\u001b[0m 1s/step - accuracy: 0.7081 - auc: 0.8256 - f1_score: 0.4258 - loss: 0.5284 - precision: 0.5552 - recall: 0.8747 - val_accuracy: 0.6346 - val_auc: 0.5866 - val_f1_score: 0.2702 - val_loss: 0.7010 - val_precision: 0.4167 - val_recall: 0.2941\n",
      "Epoch 26/50\n",
      "\u001b[1m16/16\u001b[0m \u001b[32m━━━━━━━━━━━━━━━━━━━━\u001b[0m\u001b[37m\u001b[0m \u001b[1m22s\u001b[0m 1s/step - accuracy: 0.7250 - auc: 0.8431 - f1_score: 0.2528 - loss: 0.5267 - precision: 0.6171 - recall: 0.4741 - val_accuracy: 0.5962 - val_auc: 0.6597 - val_f1_score: 0.3640 - val_loss: 0.7169 - val_precision: 0.4167 - val_recall: 0.5882\n",
      "Epoch 27/50\n",
      "\u001b[1m16/16\u001b[0m \u001b[32m━━━━━━━━━━━━━━━━━━━━\u001b[0m\u001b[37m\u001b[0m \u001b[1m20s\u001b[0m 1s/step - accuracy: 0.6770 - auc: 0.7949 - f1_score: 0.3627 - loss: 0.5572 - precision: 0.5022 - recall: 0.6983 - val_accuracy: 0.5577 - val_auc: 0.6429 - val_f1_score: 0.3663 - val_loss: 0.7181 - val_precision: 0.3750 - val_recall: 0.5294\n",
      "Epoch 28/50\n",
      "\u001b[1m16/16\u001b[0m \u001b[32m━━━━━━━━━━━━━━━━━━━━\u001b[0m\u001b[37m\u001b[0m \u001b[1m20s\u001b[0m 1s/step - accuracy: 0.6911 - auc: 0.7608 - f1_score: 0.3526 - loss: 0.5620 - precision: 0.4997 - recall: 0.6397 - val_accuracy: 0.6923 - val_auc: 0.6445 - val_f1_score: 0.3186 - val_loss: 0.6836 - val_precision: 0.5294 - val_recall: 0.5294\n",
      "Epoch 29/50\n",
      "\u001b[1m16/16\u001b[0m \u001b[32m━━━━━━━━━━━━━━━━━━━━\u001b[0m\u001b[37m\u001b[0m \u001b[1m20s\u001b[0m 1s/step - accuracy: 0.7236 - auc: 0.7963 - f1_score: 0.3426 - loss: 0.5602 - precision: 0.6048 - recall: 0.6338 - val_accuracy: 0.6154 - val_auc: 0.6882 - val_f1_score: 0.3804 - val_loss: 0.7113 - val_precision: 0.4444 - val_recall: 0.7059\n",
      "Epoch 30/50\n",
      "\u001b[1m16/16\u001b[0m \u001b[32m━━━━━━━━━━━━━━━━━━━━\u001b[0m\u001b[37m\u001b[0m \u001b[1m21s\u001b[0m 1s/step - accuracy: 0.6918 - auc: 0.8179 - f1_score: 0.4066 - loss: 0.5293 - precision: 0.5219 - recall: 0.8519 - val_accuracy: 0.6154 - val_auc: 0.7109 - val_f1_score: 0.3704 - val_loss: 0.6646 - val_precision: 0.4400 - val_recall: 0.6471\n",
      "Epoch 31/50\n",
      "\u001b[1m16/16\u001b[0m \u001b[32m━━━━━━━━━━━━━━━━━━━━\u001b[0m\u001b[37m\u001b[0m \u001b[1m21s\u001b[0m 1s/step - accuracy: 0.7424 - auc: 0.8456 - f1_score: 0.3391 - loss: 0.4939 - precision: 0.5465 - recall: 0.8132 - val_accuracy: 0.6346 - val_auc: 0.6597 - val_f1_score: 0.3666 - val_loss: 0.7182 - val_precision: 0.4583 - val_recall: 0.6471\n",
      "Epoch 32/50\n",
      "\u001b[1m16/16\u001b[0m \u001b[32m━━━━━━━━━━━━━━━━━━━━\u001b[0m\u001b[37m\u001b[0m \u001b[1m21s\u001b[0m 1s/step - accuracy: 0.7630 - auc: 0.8624 - f1_score: 0.3122 - loss: 0.4594 - precision: 0.5652 - recall: 0.8020 - val_accuracy: 0.6538 - val_auc: 0.6866 - val_f1_score: 0.3707 - val_loss: 0.6727 - val_precision: 0.4800 - val_recall: 0.7059\n",
      "Epoch 33/50\n",
      "\u001b[1m16/16\u001b[0m \u001b[32m━━━━━━━━━━━━━━━━━━━━\u001b[0m\u001b[37m\u001b[0m \u001b[1m20s\u001b[0m 1s/step - accuracy: 0.8112 - auc: 0.8843 - f1_score: 0.3731 - loss: 0.4419 - precision: 0.6902 - recall: 0.8094 - val_accuracy: 0.6154 - val_auc: 0.6992 - val_f1_score: 0.3704 - val_loss: 0.6813 - val_precision: 0.4400 - val_recall: 0.6471\n",
      "Epoch 34/50\n",
      "\u001b[1m16/16\u001b[0m \u001b[32m━━━━━━━━━━━━━━━━━━━━\u001b[0m\u001b[37m\u001b[0m \u001b[1m20s\u001b[0m 1s/step - accuracy: 0.7464 - auc: 0.8268 - f1_score: 0.3740 - loss: 0.5131 - precision: 0.5999 - recall: 0.7939 - val_accuracy: 0.6923 - val_auc: 0.7126 - val_f1_score: 0.3431 - val_loss: 0.6262 - val_precision: 0.5238 - val_recall: 0.6471\n",
      "Epoch 35/50\n",
      "\u001b[1m16/16\u001b[0m \u001b[32m━━━━━━━━━━━━━━━━━━━━\u001b[0m\u001b[37m\u001b[0m \u001b[1m21s\u001b[0m 1s/step - accuracy: 0.7212 - auc: 0.8345 - f1_score: 0.3729 - loss: 0.4988 - precision: 0.5475 - recall: 0.8210 - val_accuracy: 0.7115 - val_auc: 0.7252 - val_f1_score: 0.3551 - val_loss: 0.6352 - val_precision: 0.5455 - val_recall: 0.7059\n",
      "Epoch 36/50\n",
      "\u001b[1m16/16\u001b[0m \u001b[32m━━━━━━━━━━━━━━━━━━━━\u001b[0m\u001b[37m\u001b[0m \u001b[1m20s\u001b[0m 1s/step - accuracy: 0.7269 - auc: 0.8187 - f1_score: 0.3040 - loss: 0.5253 - precision: 0.5473 - recall: 0.6883 - val_accuracy: 0.6923 - val_auc: 0.7277 - val_f1_score: 0.3612 - val_loss: 0.6782 - val_precision: 0.5217 - val_recall: 0.7059\n",
      "Epoch 37/50\n",
      "\u001b[1m16/16\u001b[0m \u001b[32m━━━━━━━━━━━━━━━━━━━━\u001b[0m\u001b[37m\u001b[0m \u001b[1m20s\u001b[0m 1s/step - accuracy: 0.7549 - auc: 0.8619 - f1_score: 0.3771 - loss: 0.4597 - precision: 0.5968 - recall: 0.7998 - val_accuracy: 0.6923 - val_auc: 0.7252 - val_f1_score: 0.3612 - val_loss: 0.6520 - val_precision: 0.5217 - val_recall: 0.7059\n",
      "Epoch 38/50\n",
      "\u001b[1m16/16\u001b[0m \u001b[32m━━━━━━━━━━━━━━━━━━━━\u001b[0m\u001b[37m\u001b[0m \u001b[1m20s\u001b[0m 1s/step - accuracy: 0.7980 - auc: 0.8713 - f1_score: 0.3481 - loss: 0.4530 - precision: 0.6541 - recall: 0.7925 - val_accuracy: 0.6538 - val_auc: 0.6630 - val_f1_score: 0.3500 - val_loss: 0.7049 - val_precision: 0.4762 - val_recall: 0.5882\n",
      "Epoch 39/50\n",
      "\u001b[1m16/16\u001b[0m \u001b[32m━━━━━━━━━━━━━━━━━━━━\u001b[0m\u001b[37m\u001b[0m \u001b[1m21s\u001b[0m 1s/step - accuracy: 0.7733 - auc: 0.8915 - f1_score: 0.3843 - loss: 0.4225 - precision: 0.6435 - recall: 0.8041 - val_accuracy: 0.6731 - val_auc: 0.7151 - val_f1_score: 0.3450 - val_loss: 0.6576 - val_precision: 0.5000 - val_recall: 0.5882\n",
      "Epoch 40/50\n",
      "\u001b[1m16/16\u001b[0m \u001b[32m━━━━━━━━━━━━━━━━━━━━\u001b[0m\u001b[37m\u001b[0m \u001b[1m21s\u001b[0m 1s/step - accuracy: 0.8536 - auc: 0.9138 - f1_score: 0.3128 - loss: 0.3759 - precision: 0.7520 - recall: 0.8116 - val_accuracy: 0.6538 - val_auc: 0.7151 - val_f1_score: 0.3499 - val_loss: 0.6612 - val_precision: 0.4762 - val_recall: 0.5882\n",
      "Epoch 41/50\n",
      "\u001b[1m16/16\u001b[0m \u001b[32m━━━━━━━━━━━━━━━━━━━━\u001b[0m\u001b[37m\u001b[0m \u001b[1m19s\u001b[0m 1s/step - accuracy: 0.7831 - auc: 0.8863 - f1_score: 0.3531 - loss: 0.4136 - precision: 0.6138 - recall: 0.8515 - val_accuracy: 0.6923 - val_auc: 0.7504 - val_f1_score: 0.3616 - val_loss: 0.6609 - val_precision: 0.5217 - val_recall: 0.7059\n",
      "Epoch 42/50\n",
      "\u001b[1m16/16\u001b[0m \u001b[32m━━━━━━━━━━━━━━━━━━━━\u001b[0m\u001b[37m\u001b[0m \u001b[1m19s\u001b[0m 1s/step - accuracy: 0.7292 - auc: 0.9075 - f1_score: 0.3927 - loss: 0.4361 - precision: 0.5362 - recall: 0.9542 - val_accuracy: 0.6538 - val_auc: 0.6655 - val_f1_score: 0.3190 - val_loss: 0.6866 - val_precision: 0.4706 - val_recall: 0.4706\n",
      "Epoch 43/50\n",
      "\u001b[1m16/16\u001b[0m \u001b[32m━━━━━━━━━━━━━━━━━━━━\u001b[0m\u001b[37m\u001b[0m \u001b[1m19s\u001b[0m 1s/step - accuracy: 0.7674 - auc: 0.8749 - f1_score: 0.3676 - loss: 0.4460 - precision: 0.6563 - recall: 0.7280 - val_accuracy: 0.6923 - val_auc: 0.7395 - val_f1_score: 0.3512 - val_loss: 0.6816 - val_precision: 0.5238 - val_recall: 0.6471\n",
      "Epoch 44/50\n",
      "\u001b[1m16/16\u001b[0m \u001b[32m━━━━━━━━━━━━━━━━━━━━\u001b[0m\u001b[37m\u001b[0m \u001b[1m20s\u001b[0m 1s/step - accuracy: 0.8393 - auc: 0.9072 - f1_score: 0.3573 - loss: 0.3958 - precision: 0.7514 - recall: 0.8136 - val_accuracy: 0.6346 - val_auc: 0.6807 - val_f1_score: 0.3397 - val_loss: 0.6600 - val_precision: 0.4500 - val_recall: 0.5294\n",
      "Epoch 45/50\n",
      "\u001b[1m16/16\u001b[0m \u001b[32m━━━━━━━━━━━━━━━━━━━━\u001b[0m\u001b[37m\u001b[0m \u001b[1m21s\u001b[0m 1s/step - accuracy: 0.8202 - auc: 0.9070 - f1_score: 0.3529 - loss: 0.4174 - precision: 0.7604 - recall: 0.7472 - val_accuracy: 0.6923 - val_auc: 0.7353 - val_f1_score: 0.3616 - val_loss: 0.6602 - val_precision: 0.5217 - val_recall: 0.7059\n",
      "Epoch 46/50\n",
      "\u001b[1m16/16\u001b[0m \u001b[32m━━━━━━━━━━━━━━━━━━━━\u001b[0m\u001b[37m\u001b[0m \u001b[1m44s\u001b[0m 1s/step - accuracy: 0.8400 - auc: 0.9058 - f1_score: 0.2821 - loss: 0.3787 - precision: 0.7373 - recall: 0.7139 - val_accuracy: 0.6346 - val_auc: 0.7042 - val_f1_score: 0.3450 - val_loss: 0.7254 - val_precision: 0.4500 - val_recall: 0.5294\n",
      "Epoch 47/50\n",
      "\u001b[1m16/16\u001b[0m \u001b[32m━━━━━━━━━━━━━━━━━━━━\u001b[0m\u001b[37m\u001b[0m \u001b[1m22s\u001b[0m 1s/step - accuracy: 0.8212 - auc: 0.9170 - f1_score: 0.3097 - loss: 0.3647 - precision: 0.6500 - recall: 0.8281 - val_accuracy: 0.6731 - val_auc: 0.7084 - val_f1_score: 0.3554 - val_loss: 0.7482 - val_precision: 0.5000 - val_recall: 0.6471\n",
      "Epoch 48/50\n",
      "\u001b[1m16/16\u001b[0m \u001b[32m━━━━━━━━━━━━━━━━━━━━\u001b[0m\u001b[37m\u001b[0m \u001b[1m20s\u001b[0m 1s/step - accuracy: 0.8093 - auc: 0.9047 - f1_score: 0.3845 - loss: 0.4071 - precision: 0.6804 - recall: 0.8734 - val_accuracy: 0.7115 - val_auc: 0.6958 - val_f1_score: 0.3293 - val_loss: 0.7878 - val_precision: 0.5556 - val_recall: 0.5882\n",
      "Epoch 49/50\n",
      "\u001b[1m16/16\u001b[0m \u001b[32m━━━━━━━━━━━━━━━━━━━━\u001b[0m\u001b[37m\u001b[0m \u001b[1m19s\u001b[0m 1s/step - accuracy: 0.8240 - auc: 0.9143 - f1_score: 0.2623 - loss: 0.3897 - precision: 0.7441 - recall: 0.6077 - val_accuracy: 0.6731 - val_auc: 0.7790 - val_f1_score: 0.4221 - val_loss: 0.7691 - val_precision: 0.5000 - val_recall: 0.8235\n",
      "Epoch 50/50\n",
      "\u001b[1m16/16\u001b[0m \u001b[32m━━━━━━━━━━━━━━━━━━━━\u001b[0m\u001b[37m\u001b[0m \u001b[1m22s\u001b[0m 1s/step - accuracy: 0.7755 - auc: 0.9059 - f1_score: 0.3596 - loss: 0.3962 - precision: 0.6166 - recall: 0.8309 - val_accuracy: 0.6923 - val_auc: 0.7252 - val_f1_score: 0.3226 - val_loss: 0.7063 - val_precision: 0.5294 - val_recall: 0.5294\n"
     ]
    }
   ],
   "source": [
    "from tensorflow.keras.callbacks import EarlyStopping, ModelCheckpoint\n",
    "\n",
    "# Callbacks\n",
    "checkpoint_cb = ModelCheckpoint(\"best_pose_model.keras\", save_best_only=True, monitor=\"val_f1_score\", mode=\"max\")\n",
    "\n",
    "\"\"\" y_train = y_train.astype(np.int32)\n",
    "y_val   = y_val.astype(np.int32)\n",
    "y_test  = y_test.astype(np.int32) \"\"\"\n",
    "\n",
    "print(\"Train size:\", len(X_train))\n",
    "print(\"Val size:\", len(X_val))\n",
    "print(\"Test size:\", len(X_test))\n",
    "\n",
    "# Training\n",
    "history = model.fit(\n",
    "    X_train, y_train,\n",
    "    validation_data=(X_val, y_val),\n",
    "    epochs=50,\n",
    "    batch_size=16,\n",
    "    callbacks=checkpoint_cb,\n",
    "    class_weight=class_weights,\n",
    "    verbose=1\n",
    ")"
   ]
  },
  {
   "cell_type": "markdown",
   "id": "2ec5e51c",
   "metadata": {},
   "source": [
    "# Model Evaluation"
   ]
  },
  {
   "cell_type": "code",
   "execution_count": null,
   "id": "39b9b5d5",
   "metadata": {},
   "outputs": [
    {
     "name": "stdout",
     "output_type": "stream",
     "text": [
      "\u001b[1m2/2\u001b[0m \u001b[32m━━━━━━━━━━━━━━━━━━━━\u001b[0m\u001b[37m\u001b[0m \u001b[1m0s\u001b[0m 220ms/step\n",
      "              precision    recall  f1-score   support\n",
      "\n",
      "         0.0     0.8056    0.8286    0.8169        35\n",
      "         1.0     0.6471    0.6111    0.6286        18\n",
      "\n",
      "    accuracy                         0.7547        53\n",
      "   macro avg     0.7263    0.7198    0.7227        53\n",
      "weighted avg     0.7517    0.7547    0.7529        53\n",
      "\n"
     ]
    },
    {
     "data": {
      "image/png": "[encoded data removed]",
      "text/plain": [
       "<Figure size 600x500 with 2 Axes>"
      ]
     },
     "metadata": {},
     "output_type": "display_data"
    }
   ],
   "source": [
    "import numpy as np\n",
    "from sklearn.metrics import classification_report, confusion_matrix\n",
    "import matplotlib.pyplot as plt\n",
    "import seaborn as sns\n",
    "\n",
    "# Predictions\n",
    "y_pred_probs = model.predict(X_test)\n",
    "y_pred = (y_pred_probs > 0.5).astype(int)\n",
    "\n",
    "# Classification Report\n",
    "print(classification_report(y_test, y_pred, digits=4))\n",
    "\n",
    "# Confusion Matrix\n",
    "cm = confusion_matrix(y_test, y_pred)\n",
    "plt.figure(figsize=(6,5))\n",
    "sns.heatmap(cm, annot=True, fmt=\"d\", cmap=\"Blues\", xticklabels=[\"Non-Theft\", \"Theft\"], yticklabels=[\"Non-Theft\", \"Theft\"])\n",
    "plt.xlabel(\"Predicted\")\n",
    "plt.ylabel(\"True\")\n",
    "plt.title(\"Confusion Matrix\")\n",
    "plt.show()"
   ]
  },
  {
   "cell_type": "markdown",
   "id": "3969dca3",
   "metadata": {},
   "source": [
    "### Future Enchancements: Yolo + implementation + duplicate removal"
   ]
  }
 ],
 "metadata": {
  "kernelspec": {
   "display_name": "teeth-cnn",
   "language": "python",
   "name": "python3"
  },
  "language_info": {
   "codemirror_mode": {
    "name": "ipython",
    "version": 3
   },
   "file_extension": ".py",
   "mimetype": "text/x-python",
   "name": "python",
   "nbconvert_exporter": "python",
   "pygments_lexer": "ipython3",
   "version": "3.10.18"
  }
 },
 "nbformat": 4,
 "nbformat_minor": 5
}
